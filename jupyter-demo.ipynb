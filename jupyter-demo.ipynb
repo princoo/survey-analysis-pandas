{
 "cells": [
  {
   "cell_type": "code",
   "execution_count": 3,
   "metadata": {},
   "outputs": [],
   "source": [
    "import pandas as pd\n",
    "import numpy as np\n",
    "\n",
    "# handling custom missing values\n",
    "\n",
    "#  we make a list for those values\n",
    "na_vals = ['NA','Missing']\n",
    "# then apply it in the na_values argument when reading the file . see on the next line down\n",
    "# .........................\n",
    "\n",
    "\n",
    "df = pd.read_csv('data/survey_results_public.csv',index_col='ResponseId', na_values=na_vals)\n",
    "shema_df = pd.read_csv('data/survey_results_schema.csv',index_col='qname')"
   ]
  },
  {
   "cell_type": "code",
   "execution_count": 2,
   "metadata": {},
   "outputs": [],
   "source": [
    "pd.set_option('display.max_columns',84)\n",
    "pd.set_option('display.max_rows',84)"
   ]
  },
  {
   "cell_type": "code",
   "execution_count": 4,
   "metadata": {},
   "outputs": [
    {
     "data": {
      "text/plain": [
       "ResponseId\n",
       "1        NaN\n",
       "2         18\n",
       "3         27\n",
       "4         12\n",
       "5          6\n",
       "        ... \n",
       "89180     20\n",
       "89181      5\n",
       "89182     10\n",
       "89183      3\n",
       "89184     17\n",
       "Name: YearsCode, Length: 89184, dtype: object"
      ]
     },
     "execution_count": 4,
     "metadata": {},
     "output_type": "execute_result"
    }
   ],
   "source": [
    "df.head()"
   ]
  },
  {
   "cell_type": "code",
   "execution_count": null,
   "metadata": {},
   "outputs": [],
   "source": [
    "shema_df"
   ]
  },
  {
   "cell_type": "code",
   "execution_count": null,
   "metadata": {},
   "outputs": [],
   "source": [
    "df.shape"
   ]
  },
  {
   "cell_type": "code",
   "execution_count": null,
   "metadata": {},
   "outputs": [],
   "source": [
    "df['Employment']"
   ]
  },
  {
   "cell_type": "code",
   "execution_count": null,
   "metadata": {},
   "outputs": [],
   "source": [
    "df['Employment'].value_counts()"
   ]
  },
  {
   "cell_type": "code",
   "execution_count": null,
   "metadata": {},
   "outputs": [],
   "source": [
    "shema_df.loc['Employment','question']"
   ]
  },
  {
   "cell_type": "code",
   "execution_count": null,
   "metadata": {},
   "outputs": [],
   "source": [
    "# shema_df.sort_index(ascending=True,inplace=True)\n",
    "# shema_df\n",
    "df.columns"
   ]
  },
  {
   "cell_type": "code",
   "execution_count": null,
   "metadata": {},
   "outputs": [],
   "source": [
    "high_salary = (df['ConvertedCompYearly'] > 70000)\n",
    "lang_filter = df['LanguageHaveWorkedWith'].str.contains('Python',na=False)\n",
    "countries = ['United States of America','Austria']\n",
    "country_filt = df['Country'].isin(countries)\n",
    "df.loc[lang_filter, ['Age','ConvertedCompYearly','Country','LanguageHaveWorkedWith']]"
   ]
  },
  {
   "cell_type": "code",
   "execution_count": null,
   "metadata": {},
   "outputs": [],
   "source": [
    "df.columns = [x.lower() for x in df.columns]\n",
    "df"
   ]
  },
  {
   "cell_type": "code",
   "execution_count": null,
   "metadata": {},
   "outputs": [],
   "source": [
    "df.columns = df.columns.str.replace('_', ' ')\n",
    "df"
   ]
  },
  {
   "cell_type": "code",
   "execution_count": null,
   "metadata": {},
   "outputs": [],
   "source": [
    "df.rename(columns={'MAIN':'MAINBRANCH'}, inplace=True)\n",
    "df"
   ]
  },
  {
   "cell_type": "code",
   "execution_count": null,
   "metadata": {},
   "outputs": [],
   "source": [
    "# df.loc[1] = ['ggg','ggg',....] <- for altering the whole row\n",
    "\n",
    "\n",
    "# df.loc[1, ['EMPLOYMENT','REMOTEWORK']] = ['andela','yes']\n",
    "df.loc[1, 'EMPLOYMENT'] = 'andelass'\n",
    "df\n"
   ]
  },
  {
   "cell_type": "code",
   "execution_count": null,
   "metadata": {},
   "outputs": [],
   "source": [
    "df.at[1,'EMPLOYMENT'] = 'andela'"
   ]
  },
  {
   "cell_type": "code",
   "execution_count": null,
   "metadata": {},
   "outputs": [],
   "source": [
    "# another way without using index\n",
    "filt = (df['EMPLOYMENT'] == 'andela')\n",
    "df.loc[filt, 'EMPLOYMENT'] = 'Angularrii'\n",
    "df"
   ]
  },
  {
   "cell_type": "code",
   "execution_count": null,
   "metadata": {},
   "outputs": [],
   "source": [
    "# cahing multiple rows at once\n",
    "df['EMPLOYMENT']= df['EMPLOYMENT'].str.lower()\n",
    "df"
   ]
  },
  {
   "cell_type": "code",
   "execution_count": null,
   "metadata": {},
   "outputs": [],
   "source": [
    "# apply\n",
    "# map\n",
    "# applymap\n",
    "# replace"
   ]
  },
  {
   "cell_type": "code",
   "execution_count": null,
   "metadata": {},
   "outputs": [],
   "source": [
    "df['MAINBRANCH'].apply(len)"
   ]
  },
  {
   "cell_type": "code",
   "execution_count": null,
   "metadata": {},
   "outputs": [],
   "source": [
    "def update_branch(name):\n",
    "    return name.upper()"
   ]
  },
  {
   "cell_type": "code",
   "execution_count": null,
   "metadata": {},
   "outputs": [],
   "source": [
    "df['MAINBRANCH'].apply(update_branch)"
   ]
  },
  {
   "cell_type": "code",
   "execution_count": null,
   "metadata": {},
   "outputs": [],
   "source": [
    "df['MAINBRANCH'] = df['MAINBRANCH'].apply(update_branch)\n",
    "df"
   ]
  },
  {
   "cell_type": "code",
   "execution_count": null,
   "metadata": {},
   "outputs": [],
   "source": [
    "df['MAINBRANCH'] = df['MAINBRANCH'].apply(lambda x: x.lower())\n",
    "df"
   ]
  },
  {
   "cell_type": "code",
   "execution_count": null,
   "metadata": {},
   "outputs": [],
   "source": [
    "# it applys on Dataframe\n",
    "df.apply(len,axis='columns')\n"
   ]
  },
  {
   "cell_type": "code",
   "execution_count": null,
   "metadata": {},
   "outputs": [],
   "source": [
    "# applys on each element of the series in the dataframe\n"
   ]
  },
  {
   "cell_type": "code",
   "execution_count": null,
   "metadata": {},
   "outputs": [],
   "source": [
    "# df['SOAccount'] = df['SOAccount'].map({'Yes':True, 'No':False})\n",
    "df['SOAccount'] = df['SOAccount'].replace({'Yes':True, 'No':False})\n"
   ]
  },
  {
   "cell_type": "code",
   "execution_count": null,
   "metadata": {},
   "outputs": [],
   "source": [
    "# combine columns data\n",
    "df['Combine'] = df['learncodecoursescert'] + ' ' + df['languagewanttoworkwith']\n"
   ]
  },
  {
   "cell_type": "code",
   "execution_count": null,
   "metadata": {},
   "outputs": [],
   "source": [
    "# delete column\n",
    "df.drop(columns=['Combine'], inplace=True)\n"
   ]
  },
  {
   "cell_type": "code",
   "execution_count": null,
   "metadata": {},
   "outputs": [],
   "source": [
    "# add new columns \n",
    "# expand is used for making columns on the split data but not on the data frame\n",
    "# main and q will be the new comuns created on the original dataframe with the slipt column data\n",
    "# below code might not work bcz of the combine data has many spaces\n",
    "df[['main','q']] = df['Combine'].str.split(' ', expand=True)\n"
   ]
  },
  {
   "cell_type": "code",
   "execution_count": null,
   "metadata": {},
   "outputs": [],
   "source": [
    "# add new row\n",
    "df = df._append({'age':'199'}, ignore_index=True)\n",
    "df"
   ]
  },
  {
   "cell_type": "code",
   "execution_count": null,
   "metadata": {},
   "outputs": [],
   "source": [
    "df2= pd.DataFrame(df)\n",
    "df2.drop(columns='age',inplace=True)\n",
    "df2\n"
   ]
  },
  {
   "cell_type": "code",
   "execution_count": null,
   "metadata": {},
   "outputs": [],
   "source": [
    "# adding two dataframes together\n",
    "df._append(df2, ignore_index=True,sort=False)\n",
    "\n",
    "# use the bellow one to accept the changes to the dataframe\n",
    "# df = df._append(df2, ignore_index=True,sort=False)\n"
   ]
  },
  {
   "cell_type": "code",
   "execution_count": null,
   "metadata": {},
   "outputs": [],
   "source": [
    "# droping rowsf\n",
    "filt = df['age'] =='199'\n",
    "df.drop(index= df[filt].index)"
   ]
  },
  {
   "cell_type": "code",
   "execution_count": null,
   "metadata": {},
   "outputs": [],
   "source": [
    "# sorting\n",
    "\n",
    "# by default is ascending to make it descending make it as below\n",
    "df.sort_values(by='employment', ascending=False)\n"
   ]
  },
  {
   "cell_type": "code",
   "execution_count": null,
   "metadata": {},
   "outputs": [],
   "source": [
    "# sorting using multiple columns\n",
    "# here is sorts based on employment and if there are similar values it sorts them using age\n",
    "df.sort_values(by=['employment','age'], ascending=False)\n"
   ]
  },
  {
   "cell_type": "code",
   "execution_count": null,
   "metadata": {},
   "outputs": [],
   "source": [
    "# sorting both ascending and descending\n",
    "# similar tot he above but sorts employment in descending and then age in ascending \n",
    "df.sort_values(by=['employment','age'], ascending=[False, True])\n",
    "\n",
    "# to save changes permanent you add inplace to True like below\n",
    "# df.sort_values(by=['employment','age'], ascending=[False, True], inplace=True)\n"
   ]
  },
  {
   "cell_type": "code",
   "execution_count": null,
   "metadata": {},
   "outputs": [],
   "source": [
    "# sorting back to default way\n",
    "df.sort_index()"
   ]
  },
  {
   "cell_type": "code",
   "execution_count": null,
   "metadata": {},
   "outputs": [],
   "source": [
    "# sorting single column\n",
    "df['age'].sort_values()"
   ]
  },
  {
   "cell_type": "code",
   "execution_count": null,
   "metadata": {},
   "outputs": [],
   "source": [
    "df.sort_values(by=['country','convertedcompyearly'], ascending=[True,False], inplace=True)"
   ]
  },
  {
   "cell_type": "code",
   "execution_count": null,
   "metadata": {},
   "outputs": [],
   "source": [
    "# this returns the n largest values of that column\n",
    "# df['convertedcompyearly'].nlargest(15)\n",
    "\n",
    "# this returns the largest but also othe results for that data\n",
    "df.nlargest(3,'convertedcompyearly')"
   ]
  },
  {
   "cell_type": "code",
   "execution_count": null,
   "metadata": {},
   "outputs": [],
   "source": [
    "# getting the smallest\n",
    "df['convertedcompyearly'].nsmallest(15)\n",
    "# df.nsmallest(3,'convertedcompyearly') "
   ]
  },
  {
   "cell_type": "code",
   "execution_count": null,
   "metadata": {},
   "outputs": [],
   "source": [
    "# DATA CASTING"
   ]
  },
  {
   "cell_type": "code",
   "execution_count": null,
   "metadata": {},
   "outputs": [],
   "source": [
    "# median\n",
    "df['convertedcompyearly'].median()"
   ]
  },
  {
   "cell_type": "code",
   "execution_count": null,
   "metadata": {},
   "outputs": [],
   "source": [
    "\n",
    "\n",
    "# using numpy to select only numeric columns \n",
    "numeric_df = df.select_dtypes(include=[np.number])\n",
    "numeric_df.median()\n",
    "\n",
    "# df.median(numeric_only=None)  <- this wont work because it contains non numeric data"
   ]
  },
  {
   "cell_type": "code",
   "execution_count": null,
   "metadata": {},
   "outputs": [],
   "source": [
    "# the will give an overall many details about the df (numeric rows)\n",
    "df.describe()"
   ]
  },
  {
   "cell_type": "code",
   "execution_count": null,
   "metadata": {},
   "outputs": [],
   "source": [
    "# normalize \n",
    "df['industry'].value_counts(normalize=True)"
   ]
  },
  {
   "cell_type": "code",
   "execution_count": null,
   "metadata": {},
   "outputs": [],
   "source": [
    "df['country'].value_counts()"
   ]
  },
  {
   "cell_type": "code",
   "execution_count": null,
   "metadata": {},
   "outputs": [],
   "source": [
    "# splitting objects\n",
    "country_grp = df.groupby(['country'])"
   ]
  },
  {
   "cell_type": "code",
   "execution_count": null,
   "metadata": {},
   "outputs": [],
   "source": [
    "# this will give all survey data only from india\n",
    "country_grp.get_group('India')\n",
    "\n",
    "# the result for one specific country about industry\n",
    "country_grp.get_group('India')['industry'].value_counts()"
   ]
  },
  {
   "cell_type": "code",
   "execution_count": null,
   "metadata": {},
   "outputs": [],
   "source": [
    "# simplified version \n",
    "country_grp['industry'].value_counts().loc['China']"
   ]
  },
  {
   "cell_type": "code",
   "execution_count": null,
   "metadata": {},
   "outputs": [],
   "source": [
    "country_grp['convertedcompyearly'].median().loc['India']"
   ]
  },
  {
   "cell_type": "code",
   "execution_count": null,
   "metadata": {},
   "outputs": [],
   "source": [
    "# use agg to apply multiple aggregate function and then add the functions you want to use\n",
    "country_grp['convertedcompyearly'].agg(['median','mean'])"
   ]
  },
  {
   "cell_type": "code",
   "execution_count": null,
   "metadata": {},
   "outputs": [],
   "source": [
    "filt_c = df['country'] == 'India'\n",
    "# this will return sum of people from india who sayed they worked with Python\n",
    "df.loc[filt_c,'languagehaveworkedwith'].str.contains('Python').sum()"
   ]
  },
  {
   "cell_type": "code",
   "execution_count": null,
   "metadata": {},
   "outputs": [],
   "source": [
    "country_grp['languagehaveworkedwith'].apply(lambda x: x.str.contains('Python').sum())"
   ]
  },
  {
   "cell_type": "code",
   "execution_count": null,
   "metadata": {},
   "outputs": [],
   "source": [
    "# doing it my way\n",
    "def filt_func(x):\n",
    "    well = x.str.contains('Python')\n",
    "    return well.sum()\n",
    "country_grp['languagehaveworkedwith'].apply(filt_func)"
   ]
  },
  {
   "cell_type": "code",
   "execution_count": null,
   "metadata": {},
   "outputs": [],
   "source": [
    "# Quest 1: find percentage for each country ppl who know python\n",
    "\n",
    "# first we find the total number of ppl\n",
    "respondents = df['country'].value_counts()\n",
    "\n",
    "\n",
    "# find ppl who know python in each country\n",
    "country_python_users = country_grp['languagehaveworkedwith'].apply(lambda x: x.str.contains('Python').sum())\n",
    "\n",
    "# concat the 2 series responses\n",
    "python_df = pd.concat([respondents,country_python_users], axis='columns')\n",
    "python_df\n"
   ]
  },
  {
   "cell_type": "code",
   "execution_count": null,
   "metadata": {},
   "outputs": [],
   "source": [
    "# rename columns for them to make sense\n",
    "python_df.rename(columns={'count':'NumRespondents','languagehaveworkedwith':'NumKnowPython'}, inplace=True)\n",
    "python_df"
   ]
  },
  {
   "cell_type": "code",
   "execution_count": null,
   "metadata": {},
   "outputs": [],
   "source": [
    "# add new colum which will contain the percentage and calculate the percentage\n",
    "python_df['percentage'] = (python_df['NumKnowPython'] / python_df['NumRespondents']) *100\n",
    "python_df"
   ]
  },
  {
   "cell_type": "code",
   "execution_count": null,
   "metadata": {},
   "outputs": [],
   "source": [
    "python_df.sort_values(by='percentage',ascending=False, inplace=True)\n",
    "python_df"
   ]
  },
  {
   "cell_type": "code",
   "execution_count": null,
   "metadata": {},
   "outputs": [],
   "source": [
    "# HANDLING MISSING DATA\n",
    "# see on small data in the snippete file first"
   ]
  },
  {
   "cell_type": "code",
   "execution_count": null,
   "metadata": {},
   "outputs": [],
   "source": [
    "df['YearsCode'] = df['YearsCode'].astype(float)\n",
    "#  here we run into an error cz not only nan values and int values were there \n",
    "#  but also there were some strings that can not be converted to floar\n"
   ]
  },
  {
   "cell_type": "code",
   "execution_count": 9,
   "metadata": {},
   "outputs": [
    {
     "data": {
      "text/plain": [
       "array([nan, '18', '27', '12', '6', '21', '4', '5', '20', '14', '10', '15',\n",
       "       '11', '3', '24', '8', '13', 'Less than 1 year', '16', '33', '22',\n",
       "       '30', '32', '7', '35', '28', '40', '17', '29', '19',\n",
       "       'More than 50 years', '9', '38', '26', '34', '25', '2', '45', '23',\n",
       "       '31', '43', '1', '48', '41', '50', '39', '42', '37', '36', '44',\n",
       "       '46', '49', '47'], dtype=object)"
      ]
     },
     "execution_count": 9,
     "metadata": {},
     "output_type": "execute_result"
    }
   ],
   "source": [
    "# this will give all unique values of the column\n",
    "df['YearsCode'].unique()"
   ]
  },
  {
   "cell_type": "code",
   "execution_count": 10,
   "metadata": {},
   "outputs": [],
   "source": [
    "#  now to replace those strings with the value we do use replace\n",
    "df['YearsCode'].replace('Less than 1 year', 0, inplace=True)\n",
    "df['YearsCode'].replace('More than 50 years', 51, inplace=True)"
   ]
  },
  {
   "cell_type": "code",
   "execution_count": 11,
   "metadata": {},
   "outputs": [],
   "source": [
    "# now we again convert to float which will work\n",
    "df['YearsCode'] = df['YearsCode'].astype(float)"
   ]
  },
  {
   "cell_type": "code",
   "execution_count": 12,
   "metadata": {},
   "outputs": [
    {
     "data": {
      "text/plain": [
       "np.float64(13.966855378281009)"
      ]
     },
     "execution_count": 12,
     "metadata": {},
     "output_type": "execute_result"
    }
   ],
   "source": [
    "# now view average no of year of experience\n",
    "df['YearsCode'].mean()"
   ]
  },
  {
   "cell_type": "code",
   "execution_count": 13,
   "metadata": {},
   "outputs": [
    {
     "data": {
      "text/plain": [
       "np.float64(11.0)"
      ]
     },
     "execution_count": 13,
     "metadata": {},
     "output_type": "execute_result"
    }
   ],
   "source": [
    "df['YearsCode'].median()"
   ]
  },
  {
   "cell_type": "code",
   "execution_count": null,
   "metadata": {},
   "outputs": [],
   "source": []
  }
 ],
 "metadata": {
  "kernelspec": {
   "display_name": "env",
   "language": "python",
   "name": "python3"
  },
  "language_info": {
   "codemirror_mode": {
    "name": "ipython",
    "version": 3
   },
   "file_extension": ".py",
   "mimetype": "text/x-python",
   "name": "python",
   "nbconvert_exporter": "python",
   "pygments_lexer": "ipython3",
   "version": "3.11.3"
  }
 },
 "nbformat": 4,
 "nbformat_minor": 2
}
